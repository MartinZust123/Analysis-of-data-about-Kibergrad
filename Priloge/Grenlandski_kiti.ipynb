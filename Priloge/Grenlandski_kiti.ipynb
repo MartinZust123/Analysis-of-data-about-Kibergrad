{
 "cells": [
  {
   "cell_type": "markdown",
   "metadata": {},
   "source": [
    "# Grenlandski kiti"
   ]
  },
  {
   "cell_type": "code",
   "execution_count": 123,
   "metadata": {},
   "outputs": [],
   "source": [
    "import pandas as pd\n",
    "import matplotlib.pyplot as plt\n",
    "import numpy as np"
   ]
  },
  {
   "cell_type": "code",
   "execution_count": 124,
   "metadata": {},
   "outputs": [
    {
     "data": {
      "text/html": [
       "<div>\n",
       "<style scoped>\n",
       "    .dataframe tbody tr th:only-of-type {\n",
       "        vertical-align: middle;\n",
       "    }\n",
       "\n",
       "    .dataframe tbody tr th {\n",
       "        vertical-align: top;\n",
       "    }\n",
       "\n",
       "    .dataframe thead th {\n",
       "        text-align: right;\n",
       "    }\n",
       "</style>\n",
       "<table border=\"1\" class=\"dataframe\">\n",
       "  <thead>\n",
       "    <tr style=\"text-align: right;\">\n",
       "      <th></th>\n",
       "      <th>.2252</th>\n",
       "    </tr>\n",
       "  </thead>\n",
       "  <tbody>\n",
       "    <tr>\n",
       "      <th>0</th>\n",
       "      <td>0.7194</td>\n",
       "    </tr>\n",
       "    <tr>\n",
       "      <th>1</th>\n",
       "      <td>0.1642</td>\n",
       "    </tr>\n",
       "    <tr>\n",
       "      <th>2</th>\n",
       "      <td>0.2398</td>\n",
       "    </tr>\n",
       "    <tr>\n",
       "      <th>3</th>\n",
       "      <td>0.1880</td>\n",
       "    </tr>\n",
       "    <tr>\n",
       "      <th>4</th>\n",
       "      <td>0.2123</td>\n",
       "    </tr>\n",
       "    <tr>\n",
       "      <th>...</th>\n",
       "      <td>...</td>\n",
       "    </tr>\n",
       "    <tr>\n",
       "      <th>204</th>\n",
       "      <td>0.4065</td>\n",
       "    </tr>\n",
       "    <tr>\n",
       "      <th>205</th>\n",
       "      <td>0.5618</td>\n",
       "    </tr>\n",
       "    <tr>\n",
       "      <th>206</th>\n",
       "      <td>0.4274</td>\n",
       "    </tr>\n",
       "    <tr>\n",
       "      <th>207</th>\n",
       "      <td>0.3279</td>\n",
       "    </tr>\n",
       "    <tr>\n",
       "      <th>208</th>\n",
       "      <td>0.2370</td>\n",
       "    </tr>\n",
       "  </tbody>\n",
       "</table>\n",
       "<p>209 rows × 1 columns</p>\n",
       "</div>"
      ],
      "text/plain": [
       "      .2252\n",
       "0    0.7194\n",
       "1    0.1642\n",
       "2    0.2398\n",
       "3    0.1880\n",
       "4    0.2123\n",
       "..      ...\n",
       "204  0.4065\n",
       "205  0.5618\n",
       "206  0.4274\n",
       "207  0.3279\n",
       "208  0.2370\n",
       "\n",
       "[209 rows x 1 columns]"
      ]
     },
     "execution_count": 124,
     "metadata": {},
     "output_type": "execute_result"
    }
   ],
   "source": [
    "csv_file_path = 'Kiti.csv'\n",
    "df = pd.read_csv(csv_file_path)\n",
    "df"
   ]
  },
  {
   "cell_type": "markdown",
   "metadata": {},
   "source": [
    "V prvem koraku preimenujemo stolpec hitrosti, da ima ime *hitrost*."
   ]
  },
  {
   "cell_type": "code",
   "execution_count": 125,
   "metadata": {},
   "outputs": [
    {
     "data": {
      "text/html": [
       "<div>\n",
       "<style scoped>\n",
       "    .dataframe tbody tr th:only-of-type {\n",
       "        vertical-align: middle;\n",
       "    }\n",
       "\n",
       "    .dataframe tbody tr th {\n",
       "        vertical-align: top;\n",
       "    }\n",
       "\n",
       "    .dataframe thead th {\n",
       "        text-align: right;\n",
       "    }\n",
       "</style>\n",
       "<table border=\"1\" class=\"dataframe\">\n",
       "  <thead>\n",
       "    <tr style=\"text-align: right;\">\n",
       "      <th></th>\n",
       "      <th>hitrost</th>\n",
       "    </tr>\n",
       "  </thead>\n",
       "  <tbody>\n",
       "    <tr>\n",
       "      <th>0</th>\n",
       "      <td>0.7194</td>\n",
       "    </tr>\n",
       "    <tr>\n",
       "      <th>1</th>\n",
       "      <td>0.1642</td>\n",
       "    </tr>\n",
       "    <tr>\n",
       "      <th>2</th>\n",
       "      <td>0.2398</td>\n",
       "    </tr>\n",
       "    <tr>\n",
       "      <th>3</th>\n",
       "      <td>0.1880</td>\n",
       "    </tr>\n",
       "    <tr>\n",
       "      <th>4</th>\n",
       "      <td>0.2123</td>\n",
       "    </tr>\n",
       "    <tr>\n",
       "      <th>...</th>\n",
       "      <td>...</td>\n",
       "    </tr>\n",
       "    <tr>\n",
       "      <th>204</th>\n",
       "      <td>0.4065</td>\n",
       "    </tr>\n",
       "    <tr>\n",
       "      <th>205</th>\n",
       "      <td>0.5618</td>\n",
       "    </tr>\n",
       "    <tr>\n",
       "      <th>206</th>\n",
       "      <td>0.4274</td>\n",
       "    </tr>\n",
       "    <tr>\n",
       "      <th>207</th>\n",
       "      <td>0.3279</td>\n",
       "    </tr>\n",
       "    <tr>\n",
       "      <th>208</th>\n",
       "      <td>0.2370</td>\n",
       "    </tr>\n",
       "  </tbody>\n",
       "</table>\n",
       "<p>209 rows × 1 columns</p>\n",
       "</div>"
      ],
      "text/plain": [
       "     hitrost\n",
       "0     0.7194\n",
       "1     0.1642\n",
       "2     0.2398\n",
       "3     0.1880\n",
       "4     0.2123\n",
       "..       ...\n",
       "204   0.4065\n",
       "205   0.5618\n",
       "206   0.4274\n",
       "207   0.3279\n",
       "208   0.2370\n",
       "\n",
       "[209 rows x 1 columns]"
      ]
     },
     "execution_count": 125,
     "metadata": {},
     "output_type": "execute_result"
    }
   ],
   "source": [
    "df = df.rename(columns={'.2252': \"hitrost\"})\n",
    "df"
   ]
  },
  {
   "cell_type": "markdown",
   "metadata": {},
   "source": [
    "Narišimo histogram teh hitrosti. "
   ]
  },
  {
   "cell_type": "code",
   "execution_count": 126,
   "metadata": {},
   "outputs": [
    {
     "data": {
      "image/png": "[encoded data removed]",
      "text/plain": [
       "<Figure size 640x480 with 1 Axes>"
      ]
     },
     "metadata": {},
     "output_type": "display_data"
    }
   ],
   "source": [
    "df.hist(bins=10)\n",
    "\n",
    "plt.show()"
   ]
  },
  {
   "cell_type": "markdown",
   "metadata": {},
   "source": [
    "## Freedman-Diaconisovo pravilo"
   ]
  },
  {
   "cell_type": "code",
   "execution_count": 127,
   "metadata": {},
   "outputs": [
    {
     "data": {
      "text/plain": [
       "0.14860967903045288"
      ]
     },
     "execution_count": 127,
     "metadata": {},
     "output_type": "execute_result"
    }
   ],
   "source": [
    "širina = 2.6*(df[\"hitrost\"].quantile(0.75) - df[\"hitrost\"].quantile(0.25))/(len(df))**(1/3)\n",
    "širina"
   ]
  },
  {
   "cell_type": "markdown",
   "metadata": {},
   "source": [
    "Tako bomo v novem hitogramu podatke namesto v deset razredov razdelili v 4.5/0.1486 = 30 razredov"
   ]
  },
  {
   "cell_type": "code",
   "execution_count": 128,
   "metadata": {},
   "outputs": [
    {
     "data": {
      "image/png": "[encoded data removed]",
      "text/plain": [
       "<Figure size 640x480 with 1 Axes>"
      ]
     },
     "metadata": {},
     "output_type": "display_data"
    }
   ],
   "source": [
    "df[\"hitrost\"].hist(bins=30)\n",
    "\n",
    "plt.show()"
   ]
  },
  {
   "cell_type": "markdown",
   "metadata": {},
   "source": [
    "Iz prvega histograma se zdi najbolj smiselna porazdelitev s katero bi aproksimirali eksponentna, iz drugega grafa pa vidimo, da bi res morda prišla lahko v poštev tudi kakšna druga gama porazdelitev. "
   ]
  },
  {
   "cell_type": "markdown",
   "metadata": {},
   "source": [
    "Sedaj bomo izračunali parametra gama porazdelitve, ki najbolj ustreza danim podatkom, po metodi momentov. "
   ]
  },
  {
   "cell_type": "code",
   "execution_count": 129,
   "metadata": {},
   "outputs": [
    {
     "data": {
      "text/plain": [
       "0.607821052631579"
      ]
     },
     "execution_count": 129,
     "metadata": {},
     "output_type": "execute_result"
    }
   ],
   "source": [
    "avg = df['hitrost'].mean()\n",
    "avg"
   ]
  },
  {
   "cell_type": "code",
   "execution_count": 130,
   "metadata": {},
   "outputs": [
    {
     "data": {
      "text/html": [
       "<div>\n",
       "<style scoped>\n",
       "    .dataframe tbody tr th:only-of-type {\n",
       "        vertical-align: middle;\n",
       "    }\n",
       "\n",
       "    .dataframe tbody tr th {\n",
       "        vertical-align: top;\n",
       "    }\n",
       "\n",
       "    .dataframe thead th {\n",
       "        text-align: right;\n",
       "    }\n",
       "</style>\n",
       "<table border=\"1\" class=\"dataframe\">\n",
       "  <thead>\n",
       "    <tr style=\"text-align: right;\">\n",
       "      <th></th>\n",
       "      <th>hitrost</th>\n",
       "      <th>kvadrat</th>\n",
       "    </tr>\n",
       "  </thead>\n",
       "  <tbody>\n",
       "    <tr>\n",
       "      <th>0</th>\n",
       "      <td>0.7194</td>\n",
       "      <td>0.517536</td>\n",
       "    </tr>\n",
       "    <tr>\n",
       "      <th>1</th>\n",
       "      <td>0.1642</td>\n",
       "      <td>0.026962</td>\n",
       "    </tr>\n",
       "    <tr>\n",
       "      <th>2</th>\n",
       "      <td>0.2398</td>\n",
       "      <td>0.057504</td>\n",
       "    </tr>\n",
       "    <tr>\n",
       "      <th>3</th>\n",
       "      <td>0.1880</td>\n",
       "      <td>0.035344</td>\n",
       "    </tr>\n",
       "    <tr>\n",
       "      <th>4</th>\n",
       "      <td>0.2123</td>\n",
       "      <td>0.045071</td>\n",
       "    </tr>\n",
       "    <tr>\n",
       "      <th>...</th>\n",
       "      <td>...</td>\n",
       "      <td>...</td>\n",
       "    </tr>\n",
       "    <tr>\n",
       "      <th>204</th>\n",
       "      <td>0.4065</td>\n",
       "      <td>0.165242</td>\n",
       "    </tr>\n",
       "    <tr>\n",
       "      <th>205</th>\n",
       "      <td>0.5618</td>\n",
       "      <td>0.315619</td>\n",
       "    </tr>\n",
       "    <tr>\n",
       "      <th>206</th>\n",
       "      <td>0.4274</td>\n",
       "      <td>0.182671</td>\n",
       "    </tr>\n",
       "    <tr>\n",
       "      <th>207</th>\n",
       "      <td>0.3279</td>\n",
       "      <td>0.107518</td>\n",
       "    </tr>\n",
       "    <tr>\n",
       "      <th>208</th>\n",
       "      <td>0.2370</td>\n",
       "      <td>0.056169</td>\n",
       "    </tr>\n",
       "  </tbody>\n",
       "</table>\n",
       "<p>209 rows × 2 columns</p>\n",
       "</div>"
      ],
      "text/plain": [
       "     hitrost   kvadrat\n",
       "0     0.7194  0.517536\n",
       "1     0.1642  0.026962\n",
       "2     0.2398  0.057504\n",
       "3     0.1880  0.035344\n",
       "4     0.2123  0.045071\n",
       "..       ...       ...\n",
       "204   0.4065  0.165242\n",
       "205   0.5618  0.315619\n",
       "206   0.4274  0.182671\n",
       "207   0.3279  0.107518\n",
       "208   0.2370  0.056169\n",
       "\n",
       "[209 rows x 2 columns]"
      ]
     },
     "execution_count": 130,
     "metadata": {},
     "output_type": "execute_result"
    }
   ],
   "source": [
    "df['kvadrat'] = df['hitrost'] ** 2\n",
    "df"
   ]
  },
  {
   "cell_type": "code",
   "execution_count": 131,
   "metadata": {},
   "outputs": [
    {
     "data": {
      "text/plain": [
       "0.8304659113875599"
      ]
     },
     "execution_count": 131,
     "metadata": {},
     "output_type": "execute_result"
    }
   ],
   "source": [
    "second_moment = df['kvadrat'].mean()\n",
    "second_moment"
   ]
  },
  {
   "cell_type": "code",
   "execution_count": 132,
   "metadata": {},
   "outputs": [],
   "source": [
    "lam = avg / (second_moment - avg**2)\n",
    "a = avg ** 2 / (second_moment - avg**2)"
   ]
  },
  {
   "cell_type": "code",
   "execution_count": 133,
   "metadata": {},
   "outputs": [
    {
     "data": {
      "text/plain": [
       "0.8013683771685957"
      ]
     },
     "execution_count": 133,
     "metadata": {},
     "output_type": "execute_result"
    }
   ],
   "source": [
    "a"
   ]
  },
  {
   "cell_type": "code",
   "execution_count": 134,
   "metadata": {},
   "outputs": [
    {
     "data": {
      "text/plain": [
       "1.318428135549185"
      ]
     },
     "execution_count": 134,
     "metadata": {},
     "output_type": "execute_result"
    }
   ],
   "source": [
    "lam"
   ]
  },
  {
   "cell_type": "markdown",
   "metadata": {},
   "source": [
    "Sedaj narišimo gostoto slučajne spremenljivke *Gama(a, lam)* v isti koordinatni sistem z histogramom s 30 stolpci.  "
   ]
  },
  {
   "cell_type": "code",
   "execution_count": 135,
   "metadata": {},
   "outputs": [
    {
     "data": {
      "text/plain": [
       "0.2871820286177199"
      ]
     },
     "execution_count": 135,
     "metadata": {},
     "output_type": "execute_result"
    }
   ],
   "source": [
    "from math import gamma, e\n",
    "lam = float(lam)\n",
    "a = float(a)\n",
    "def f(x):\n",
    "    return (lam ** a)/gamma(a) * x**(a-1)*e**(-lam*x)\n",
    "\n",
    "f(1)"
   ]
  },
  {
   "cell_type": "code",
   "execution_count": 136,
   "metadata": {},
   "outputs": [
    {
     "data": {
      "image/png": "[encoded data removed]",
      "text/plain": [
       "<Figure size 640x480 with 2 Axes>"
      ]
     },
     "metadata": {},
     "output_type": "display_data"
    }
   ],
   "source": [
    "#Ustvarimo 100 vrednosti gostote te slučajne spremenljivke na intervalu od 0 do 4,5.\n",
    "x = 0.01\n",
    "x_values = [x]\n",
    "values = [f(x)]\n",
    "for i in range(100):\n",
    "    x += 0.045\n",
    "    values.append(f(x))\n",
    "    x_values.append(x)\n",
    "\n",
    "x_axis = np.array(x_values)\n",
    "y_axis = np.array(values)\n",
    "\n",
    "# Ustvarjanje grafov\n",
    "fig, (ax1, ax2) = plt.subplots(2, 1, sharex=True)  # Dva podgrafa, deljeni x-os\n",
    "\n",
    "# Prvi podgraf - linijski graf\n",
    "ax1.plot(x_axis, y_axis)\n",
    "ax1.set_ylabel('f(x)')\n",
    "\n",
    "# Drugi podgraf - histogram\n",
    "(df['hitrost'].to_frame()).hist(bins=30, ax=ax2)\n",
    "ax2.set_ylabel('Število opazovanj')\n",
    "\n",
    "# Skupna x-označba\n",
    "ax2.set_xlabel('x')\n",
    "\n",
    "# Prikaz grafov\n",
    "plt.tight_layout()  # Za boljši razmik med podgrafoma\n",
    "plt.show()"
   ]
  },
  {
   "cell_type": "code",
   "execution_count": 137,
   "metadata": {},
   "outputs": [
    {
     "data": {
      "text/plain": [
       "-176.1499416385257"
      ]
     },
     "execution_count": 137,
     "metadata": {},
     "output_type": "execute_result"
    }
   ],
   "source": [
    "from math import log\n",
    "sum_log = log(df[\"hitrost\"].prod())\n",
    "sum_log "
   ]
  },
  {
   "cell_type": "markdown",
   "metadata": {},
   "source": [
    "## Cenilke za $a$ in $\\lambda$ po metodi največjega verjetja\n",
    "\n",
    "Cenilki, ki sem jih za $a$ in $\\lambda$ dobil po metodi največjega verjetja sta $a = 1.596$ in $\\lambda = 2.626$. "
   ]
  },
  {
   "cell_type": "code",
   "execution_count": 138,
   "metadata": {},
   "outputs": [
    {
     "data": {
      "image/png": "[encoded data removed]",
      "text/plain": [
       "<Figure size 640x480 with 1 Axes>"
      ]
     },
     "metadata": {},
     "output_type": "display_data"
    }
   ],
   "source": [
    "a1 = 1.596\n",
    "l1 = 2.626\n",
    "#UStvarimo gostoto gama porazdelitve za ta dva parametra. \n",
    "def g(x):\n",
    "    return (l1 ** a1)/gamma(a1) * x**(a1-1)*e**(-l1*x)\n",
    "#Ustvarimo 100 vrednosti gostote te slučajne spremenljivke na intervalu od 0 do 4,5.\n",
    "x = 0.01\n",
    "x1_values = [x]\n",
    "values1 = [g(x)]\n",
    "for i in range(100):\n",
    "    x += 0.045\n",
    "    values1.append(g(x))\n",
    "    x1_values.append(x)\n",
    "\n",
    "x1_axis = np.array(x1_values)\n",
    "y1_axis = np.array(values1)\n",
    "\n",
    "#Sedaj bomo v isti koordinatni sistem narisali grafa obeh dveh porazdelitev in histogram. \n",
    "#Pred tem moramo gostoti še ustrezno skalirati. Če narišemo histogram z 70 razredi, je ploščina histograma 11,89. Zato moramo, da dobimo \n",
    "#enake mere pomnožiti vse vrednosti v y_axis in y1_axis z 11.89\n",
    "for i in range(len(y_axis)):\n",
    "    y_axis[i] = y_axis[i]*27.73\n",
    "    y1_axis[i] = y1_axis[i]*27.73\n",
    "plt.plot(x_axis, y_axis, label=\"Metoda momentov\")\n",
    "plt.plot(x1_axis, y1_axis, c=\"r\", label=\"Metoda največjega verjetja\")\n",
    "plt.hist(df['hitrost'], bins=30, alpha=0.7, color='green')\n",
    "plt.legend()\n",
    "plt.show()"
   ]
  },
  {
   "cell_type": "code",
   "execution_count": 139,
   "metadata": {},
   "outputs": [
    {
     "data": {
      "image/png": "[encoded data removed]",
      "text/plain": [
       "<Figure size 640x480 with 1 Axes>"
      ]
     },
     "metadata": {},
     "output_type": "display_data"
    }
   ],
   "source": [
    "plt.xscale('log')\n",
    "#Poskrbimo, da bodo vsi razredi enako široki.\n",
    "log_bins = np.logspace(np.log10(min(df[\"hitrost\"])), np.log10(max(df[\"hitrost\"])), num=30)\n",
    "plt.plot(x_axis, y_axis, label=\"Metoda momentov\")\n",
    "plt.plot(x1_axis, y1_axis, c=\"r\", label=\"Metoda največjega verjetja\")\n",
    "plt.hist(df['hitrost'], bins=log_bins, alpha=0.7, color='green')\n",
    "plt.legend()\n",
    "plt.show()"
   ]
  },
  {
   "cell_type": "code",
   "execution_count": null,
   "metadata": {},
   "outputs": [],
   "source": []
  }
 ],
 "metadata": {
  "kernelspec": {
   "display_name": "Python 3",
   "language": "python",
   "name": "python3"
  },
  "language_info": {
   "codemirror_mode": {
    "name": "ipython",
    "version": 3
   },
   "file_extension": ".py",
   "mimetype": "text/x-python",
   "name": "python",
   "nbconvert_exporter": "python",
   "pygments_lexer": "ipython3",
   "version": "3.9.1"
  },
  "orig_nbformat": 4
 },
 "nbformat": 4,
 "nbformat_minor": 2
}
