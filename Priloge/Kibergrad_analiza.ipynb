{
 "cells": [
  {
   "cell_type": "markdown",
   "metadata": {},
   "source": [
    "# Kvaliteta življenja v Kibergradu"
   ]
  },
  {
   "cell_type": "code",
   "execution_count": 2,
   "metadata": {},
   "outputs": [],
   "source": [
    "import pandas as pd\n",
    "import matplotlib.pyplot as plt\n",
    "\n",
    "csv_file_path = 'Kibergrad.csv'\n",
    "df = pd.read_csv(csv_file_path)"
   ]
  },
  {
   "cell_type": "code",
   "execution_count": 3,
   "metadata": {},
   "outputs": [],
   "source": [
    "df = df.rename(columns={\"'TIP'\": 'TIP', \"'CLANOV'\": 'CLANOV', \"'OTROK'\": 'OTROK', \"'DOHODEK'\": 'DOHODEK', \"'CETRT'\": 'CETRT', \"'IZOBRAZBA'\": 'IZOBRAZBA'})"
   ]
  },
  {
   "cell_type": "markdown",
   "metadata": {},
   "source": [
    "## Analiza bogatih in revnih"
   ]
  },
  {
   "cell_type": "markdown",
   "metadata": {},
   "source": [
    "V tabelo bogatih dodamo 1000 najbogatejših družin."
   ]
  },
  {
   "cell_type": "code",
   "execution_count": 4,
   "metadata": {},
   "outputs": [
    {
     "data": {
      "text/plain": [
       "156949.927"
      ]
     },
     "execution_count": 4,
     "metadata": {},
     "output_type": "execute_result"
    }
   ],
   "source": [
    "bogati = df[df[\"DOHODEK\"] > df.sort_values(\"DOHODEK\", ascending=False).iloc[1000][\"DOHODEK\"]]\n",
    "bogati[\"DOHODEK\"].mean()"
   ]
  },
  {
   "cell_type": "code",
   "execution_count": 5,
   "metadata": {},
   "outputs": [
    {
     "data": {
      "text/html": [
       "<div>\n",
       "<style scoped>\n",
       "    .dataframe tbody tr th:only-of-type {\n",
       "        vertical-align: middle;\n",
       "    }\n",
       "\n",
       "    .dataframe tbody tr th {\n",
       "        vertical-align: top;\n",
       "    }\n",
       "\n",
       "    .dataframe thead th {\n",
       "        text-align: right;\n",
       "    }\n",
       "</style>\n",
       "<table border=\"1\" class=\"dataframe\">\n",
       "  <thead>\n",
       "    <tr style=\"text-align: right;\">\n",
       "      <th></th>\n",
       "      <th>TIP</th>\n",
       "      <th>CLANOV</th>\n",
       "      <th>OTROK</th>\n",
       "      <th>DOHODEK</th>\n",
       "      <th>CETRT</th>\n",
       "      <th>IZOBRAZBA</th>\n",
       "    </tr>\n",
       "  </thead>\n",
       "  <tbody>\n",
       "    <tr>\n",
       "      <th>0</th>\n",
       "      <td>1</td>\n",
       "      <td>2</td>\n",
       "      <td>0</td>\n",
       "      <td>43450</td>\n",
       "      <td>1</td>\n",
       "      <td>39</td>\n",
       "    </tr>\n",
       "    <tr>\n",
       "      <th>1</th>\n",
       "      <td>1</td>\n",
       "      <td>2</td>\n",
       "      <td>0</td>\n",
       "      <td>79000</td>\n",
       "      <td>1</td>\n",
       "      <td>40</td>\n",
       "    </tr>\n",
       "    <tr>\n",
       "      <th>2</th>\n",
       "      <td>1</td>\n",
       "      <td>2</td>\n",
       "      <td>0</td>\n",
       "      <td>51306</td>\n",
       "      <td>1</td>\n",
       "      <td>39</td>\n",
       "    </tr>\n",
       "    <tr>\n",
       "      <th>3</th>\n",
       "      <td>1</td>\n",
       "      <td>4</td>\n",
       "      <td>2</td>\n",
       "      <td>24850</td>\n",
       "      <td>1</td>\n",
       "      <td>41</td>\n",
       "    </tr>\n",
       "    <tr>\n",
       "      <th>4</th>\n",
       "      <td>1</td>\n",
       "      <td>4</td>\n",
       "      <td>2</td>\n",
       "      <td>65145</td>\n",
       "      <td>1</td>\n",
       "      <td>43</td>\n",
       "    </tr>\n",
       "    <tr>\n",
       "      <th>...</th>\n",
       "      <td>...</td>\n",
       "      <td>...</td>\n",
       "      <td>...</td>\n",
       "      <td>...</td>\n",
       "      <td>...</td>\n",
       "      <td>...</td>\n",
       "    </tr>\n",
       "    <tr>\n",
       "      <th>43881</th>\n",
       "      <td>1</td>\n",
       "      <td>5</td>\n",
       "      <td>3</td>\n",
       "      <td>30800</td>\n",
       "      <td>4</td>\n",
       "      <td>36</td>\n",
       "    </tr>\n",
       "    <tr>\n",
       "      <th>43882</th>\n",
       "      <td>1</td>\n",
       "      <td>2</td>\n",
       "      <td>0</td>\n",
       "      <td>16684</td>\n",
       "      <td>4</td>\n",
       "      <td>34</td>\n",
       "    </tr>\n",
       "    <tr>\n",
       "      <th>43883</th>\n",
       "      <td>1</td>\n",
       "      <td>2</td>\n",
       "      <td>0</td>\n",
       "      <td>12000</td>\n",
       "      <td>4</td>\n",
       "      <td>39</td>\n",
       "    </tr>\n",
       "    <tr>\n",
       "      <th>43884</th>\n",
       "      <td>1</td>\n",
       "      <td>2</td>\n",
       "      <td>0</td>\n",
       "      <td>50022</td>\n",
       "      <td>4</td>\n",
       "      <td>34</td>\n",
       "    </tr>\n",
       "    <tr>\n",
       "      <th>43885</th>\n",
       "      <td>1</td>\n",
       "      <td>9</td>\n",
       "      <td>7</td>\n",
       "      <td>21082</td>\n",
       "      <td>4</td>\n",
       "      <td>39</td>\n",
       "    </tr>\n",
       "  </tbody>\n",
       "</table>\n",
       "<p>43886 rows × 6 columns</p>\n",
       "</div>"
      ],
      "text/plain": [
       "       TIP  CLANOV  OTROK  DOHODEK  CETRT  IZOBRAZBA\n",
       "0        1       2      0    43450      1         39\n",
       "1        1       2      0    79000      1         40\n",
       "2        1       2      0    51306      1         39\n",
       "3        1       4      2    24850      1         41\n",
       "4        1       4      2    65145      1         43\n",
       "...    ...     ...    ...      ...    ...        ...\n",
       "43881    1       5      3    30800      4         36\n",
       "43882    1       2      0    16684      4         34\n",
       "43883    1       2      0    12000      4         39\n",
       "43884    1       2      0    50022      4         34\n",
       "43885    1       9      7    21082      4         39\n",
       "\n",
       "[43886 rows x 6 columns]"
      ]
     },
     "execution_count": 5,
     "metadata": {},
     "output_type": "execute_result"
    }
   ],
   "source": [
    "df"
   ]
  },
  {
   "cell_type": "markdown",
   "metadata": {},
   "source": [
    "V tabelo revnih dodamo 1000 najrevnejših družin."
   ]
  },
  {
   "cell_type": "code",
   "execution_count": 6,
   "metadata": {},
   "outputs": [
    {
     "data": {
      "text/plain": [
       "414.26452905811624"
      ]
     },
     "execution_count": 6,
     "metadata": {},
     "output_type": "execute_result"
    }
   ],
   "source": [
    "revni = df[df[\"DOHODEK\"] < df.sort_values(\"DOHODEK\", ascending=False).iloc[-1000][\"DOHODEK\"]]\n",
    "revni[\"DOHODEK\"].mean()"
   ]
  },
  {
   "cell_type": "code",
   "execution_count": 7,
   "metadata": {},
   "outputs": [
    {
     "data": {
      "text/plain": [
       "38230.70630577349"
      ]
     },
     "execution_count": 7,
     "metadata": {},
     "output_type": "execute_result"
    }
   ],
   "source": [
    "import math\n",
    "stand_odk_bogati = math.sqrt(bogati[\"DOHODEK\"].var())\n",
    "stand_odk_revni = math.sqrt(revni[\"DOHODEK\"].var())\n",
    "stand_odk_bogati"
   ]
  },
  {
   "cell_type": "code",
   "execution_count": 8,
   "metadata": {},
   "outputs": [
    {
     "data": {
      "text/plain": [
       "1638.8649441243067"
      ]
     },
     "execution_count": 8,
     "metadata": {},
     "output_type": "execute_result"
    }
   ],
   "source": [
    "stand_odk_revni"
   ]
  },
  {
   "cell_type": "code",
   "execution_count": 9,
   "metadata": {},
   "outputs": [
    {
     "data": {
      "text/plain": [
       "2190"
      ]
     },
     "execution_count": 9,
     "metadata": {},
     "output_type": "execute_result"
    }
   ],
   "source": [
    "revni[\"DOHODEK\"].max()"
   ]
  },
  {
   "cell_type": "markdown",
   "metadata": {},
   "source": [
    "Sedaj primerjajmo bogate in revne družine po ostalih parametrih in na podlagi tega postavimo hipoteze o korelacijskem koeficientu med določenimi količinami."
   ]
  },
  {
   "cell_type": "code",
   "execution_count": 10,
   "metadata": {},
   "outputs": [
    {
     "data": {
      "text/plain": [
       "37.833667334669336"
      ]
     },
     "execution_count": 10,
     "metadata": {},
     "output_type": "execute_result"
    }
   ],
   "source": [
    "revni[\"IZOBRAZBA\"].mean()"
   ]
  },
  {
   "cell_type": "code",
   "execution_count": 11,
   "metadata": {},
   "outputs": [
    {
     "data": {
      "text/plain": [
       "42.648"
      ]
     },
     "execution_count": 11,
     "metadata": {},
     "output_type": "execute_result"
    }
   ],
   "source": [
    "bogati[\"IZOBRAZBA\"].mean()"
   ]
  },
  {
   "cell_type": "code",
   "execution_count": 12,
   "metadata": {},
   "outputs": [
    {
     "data": {
      "text/plain": [
       "7.655354842081354"
      ]
     },
     "execution_count": 12,
     "metadata": {},
     "output_type": "execute_result"
    }
   ],
   "source": [
    "revni[\"IZOBRAZBA\"].var()"
   ]
  },
  {
   "cell_type": "code",
   "execution_count": 13,
   "metadata": {},
   "outputs": [
    {
     "data": {
      "text/plain": [
       "6.410506506506506"
      ]
     },
     "execution_count": 13,
     "metadata": {},
     "output_type": "execute_result"
    }
   ],
   "source": [
    "bogati[\"IZOBRAZBA\"].var()"
   ]
  },
  {
   "cell_type": "code",
   "execution_count": 14,
   "metadata": {},
   "outputs": [
    {
     "data": {
      "text/plain": [
       "31"
      ]
     },
     "execution_count": 14,
     "metadata": {},
     "output_type": "execute_result"
    }
   ],
   "source": [
    "df[\"IZOBRAZBA\"].min()"
   ]
  },
  {
   "cell_type": "code",
   "execution_count": 15,
   "metadata": {},
   "outputs": [
    {
     "data": {
      "text/plain": [
       "31"
      ]
     },
     "execution_count": 15,
     "metadata": {},
     "output_type": "execute_result"
    }
   ],
   "source": [
    "bogati[\"IZOBRAZBA\"].min()"
   ]
  },
  {
   "cell_type": "code",
   "execution_count": 16,
   "metadata": {},
   "outputs": [
    {
     "data": {
      "text/plain": [
       "46"
      ]
     },
     "execution_count": 16,
     "metadata": {},
     "output_type": "execute_result"
    }
   ],
   "source": [
    "bogati[\"IZOBRAZBA\"].max()"
   ]
  },
  {
   "cell_type": "code",
   "execution_count": 17,
   "metadata": {},
   "outputs": [
    {
     "data": {
      "text/plain": [
       "31"
      ]
     },
     "execution_count": 17,
     "metadata": {},
     "output_type": "execute_result"
    }
   ],
   "source": [
    "revni[\"IZOBRAZBA\"].min()"
   ]
  },
  {
   "cell_type": "code",
   "execution_count": 18,
   "metadata": {},
   "outputs": [
    {
     "data": {
      "text/plain": [
       "45"
      ]
     },
     "execution_count": 18,
     "metadata": {},
     "output_type": "execute_result"
    }
   ],
   "source": [
    "revni[\"IZOBRAZBA\"].max()"
   ]
  },
  {
   "cell_type": "markdown",
   "metadata": {},
   "source": [
    "Opazimo, da morata biti izobrazba in dohodek pozitivno korelirana. Sumimo, da je korelacija nekje 0,3 do 0,4."
   ]
  },
  {
   "cell_type": "code",
   "execution_count": 19,
   "metadata": {},
   "outputs": [
    {
     "data": {
      "text/plain": [
       "0.579"
      ]
     },
     "execution_count": 19,
     "metadata": {},
     "output_type": "execute_result"
    }
   ],
   "source": [
    "bogati[\"OTROK\"].mean()"
   ]
  },
  {
   "cell_type": "code",
   "execution_count": 20,
   "metadata": {},
   "outputs": [
    {
     "data": {
      "text/plain": [
       "1.2735470941883769"
      ]
     },
     "execution_count": 20,
     "metadata": {},
     "output_type": "execute_result"
    }
   ],
   "source": [
    "revni[\"OTROK\"].mean()"
   ]
  },
  {
   "cell_type": "code",
   "execution_count": 21,
   "metadata": {},
   "outputs": [
    {
     "data": {
      "text/plain": [
       "6"
      ]
     },
     "execution_count": 21,
     "metadata": {},
     "output_type": "execute_result"
    }
   ],
   "source": [
    "bogati[\"OTROK\"].max()"
   ]
  },
  {
   "cell_type": "code",
   "execution_count": 22,
   "metadata": {},
   "outputs": [
    {
     "data": {
      "text/plain": [
       "8"
      ]
     },
     "execution_count": 22,
     "metadata": {},
     "output_type": "execute_result"
    }
   ],
   "source": [
    "revni[\"OTROK\"].max()"
   ]
  },
  {
   "cell_type": "markdown",
   "metadata": {},
   "source": [
    "Iz zgornjega se zdi, da morata biti število otrok in dohodek negativno korelirana. Korelacijski koeficient bi lahko bil nekje -0,2."
   ]
  },
  {
   "cell_type": "markdown",
   "metadata": {},
   "source": [
    "## Preizkus hipotez"
   ]
  },
  {
   "cell_type": "code",
   "execution_count": 23,
   "metadata": {},
   "outputs": [
    {
     "data": {
      "text/plain": [
       "0.4499440967870731"
      ]
     },
     "execution_count": 23,
     "metadata": {},
     "output_type": "execute_result"
    }
   ],
   "source": [
    "df[\"DOHODEK\"].corr(df[\"IZOBRAZBA\"])"
   ]
  },
  {
   "cell_type": "code",
   "execution_count": 24,
   "metadata": {},
   "outputs": [
    {
     "data": {
      "text/plain": [
       "-0.08045934385825014"
      ]
     },
     "execution_count": 24,
     "metadata": {},
     "output_type": "execute_result"
    }
   ],
   "source": [
    "df[\"DOHODEK\"].corr(df[\"OTROK\"])"
   ]
  },
  {
   "cell_type": "code",
   "execution_count": 25,
   "metadata": {},
   "outputs": [
    {
     "data": {
      "text/html": [
       "<div>\n",
       "<style scoped>\n",
       "    .dataframe tbody tr th:only-of-type {\n",
       "        vertical-align: middle;\n",
       "    }\n",
       "\n",
       "    .dataframe tbody tr th {\n",
       "        vertical-align: top;\n",
       "    }\n",
       "\n",
       "    .dataframe thead th {\n",
       "        text-align: right;\n",
       "    }\n",
       "</style>\n",
       "<table border=\"1\" class=\"dataframe\">\n",
       "  <thead>\n",
       "    <tr style=\"text-align: right;\">\n",
       "      <th></th>\n",
       "      <th>TIP</th>\n",
       "      <th>CLANOV</th>\n",
       "      <th>OTROK</th>\n",
       "      <th>DOHODEK</th>\n",
       "      <th>CETRT</th>\n",
       "      <th>IZOBRAZBA</th>\n",
       "    </tr>\n",
       "  </thead>\n",
       "  <tbody>\n",
       "    <tr>\n",
       "      <th>count</th>\n",
       "      <td>43886.000000</td>\n",
       "      <td>43886.000000</td>\n",
       "      <td>43886.000000</td>\n",
       "      <td>43886.000000</td>\n",
       "      <td>43886.000000</td>\n",
       "      <td>43886.000000</td>\n",
       "    </tr>\n",
       "    <tr>\n",
       "      <th>mean</th>\n",
       "      <td>1.430935</td>\n",
       "      <td>3.137288</td>\n",
       "      <td>0.947933</td>\n",
       "      <td>41335.507041</td>\n",
       "      <td>2.526090</td>\n",
       "      <td>39.422504</td>\n",
       "    </tr>\n",
       "    <tr>\n",
       "      <th>std</th>\n",
       "      <td>0.793332</td>\n",
       "      <td>1.293711</td>\n",
       "      <td>1.157211</td>\n",
       "      <td>32037.619418</td>\n",
       "      <td>1.078228</td>\n",
       "      <td>3.021883</td>\n",
       "    </tr>\n",
       "    <tr>\n",
       "      <th>min</th>\n",
       "      <td>1.000000</td>\n",
       "      <td>2.000000</td>\n",
       "      <td>0.000000</td>\n",
       "      <td>-22166.000000</td>\n",
       "      <td>1.000000</td>\n",
       "      <td>31.000000</td>\n",
       "    </tr>\n",
       "    <tr>\n",
       "      <th>25%</th>\n",
       "      <td>1.000000</td>\n",
       "      <td>2.000000</td>\n",
       "      <td>0.000000</td>\n",
       "      <td>18300.000000</td>\n",
       "      <td>2.000000</td>\n",
       "      <td>39.000000</td>\n",
       "    </tr>\n",
       "    <tr>\n",
       "      <th>50%</th>\n",
       "      <td>1.000000</td>\n",
       "      <td>3.000000</td>\n",
       "      <td>1.000000</td>\n",
       "      <td>34550.000000</td>\n",
       "      <td>3.000000</td>\n",
       "      <td>39.000000</td>\n",
       "    </tr>\n",
       "    <tr>\n",
       "      <th>75%</th>\n",
       "      <td>1.000000</td>\n",
       "      <td>4.000000</td>\n",
       "      <td>2.000000</td>\n",
       "      <td>55827.750000</td>\n",
       "      <td>3.000000</td>\n",
       "      <td>41.000000</td>\n",
       "    </tr>\n",
       "    <tr>\n",
       "      <th>max</th>\n",
       "      <td>3.000000</td>\n",
       "      <td>25.000000</td>\n",
       "      <td>9.000000</td>\n",
       "      <td>451887.000000</td>\n",
       "      <td>4.000000</td>\n",
       "      <td>46.000000</td>\n",
       "    </tr>\n",
       "  </tbody>\n",
       "</table>\n",
       "</div>"
      ],
      "text/plain": [
       "                TIP        CLANOV         OTROK        DOHODEK         CETRT  \\\n",
       "count  43886.000000  43886.000000  43886.000000   43886.000000  43886.000000   \n",
       "mean       1.430935      3.137288      0.947933   41335.507041      2.526090   \n",
       "std        0.793332      1.293711      1.157211   32037.619418      1.078228   \n",
       "min        1.000000      2.000000      0.000000  -22166.000000      1.000000   \n",
       "25%        1.000000      2.000000      0.000000   18300.000000      2.000000   \n",
       "50%        1.000000      3.000000      1.000000   34550.000000      3.000000   \n",
       "75%        1.000000      4.000000      2.000000   55827.750000      3.000000   \n",
       "max        3.000000     25.000000      9.000000  451887.000000      4.000000   \n",
       "\n",
       "          IZOBRAZBA  \n",
       "count  43886.000000  \n",
       "mean      39.422504  \n",
       "std        3.021883  \n",
       "min       31.000000  \n",
       "25%       39.000000  \n",
       "50%       39.000000  \n",
       "75%       41.000000  \n",
       "max       46.000000  "
      ]
     },
     "execution_count": 25,
     "metadata": {},
     "output_type": "execute_result"
    }
   ],
   "source": [
    "df.describe()"
   ]
  },
  {
   "cell_type": "code",
   "execution_count": 26,
   "metadata": {},
   "outputs": [
    {
     "data": {
      "text/html": [
       "<div>\n",
       "<style scoped>\n",
       "    .dataframe tbody tr th:only-of-type {\n",
       "        vertical-align: middle;\n",
       "    }\n",
       "\n",
       "    .dataframe tbody tr th {\n",
       "        vertical-align: top;\n",
       "    }\n",
       "\n",
       "    .dataframe thead th {\n",
       "        text-align: right;\n",
       "    }\n",
       "</style>\n",
       "<table border=\"1\" class=\"dataframe\">\n",
       "  <thead>\n",
       "    <tr style=\"text-align: right;\">\n",
       "      <th></th>\n",
       "      <th>TIP</th>\n",
       "      <th>CLANOV</th>\n",
       "      <th>OTROK</th>\n",
       "      <th>DOHODEK</th>\n",
       "      <th>CETRT</th>\n",
       "      <th>IZOBRAZBA</th>\n",
       "    </tr>\n",
       "  </thead>\n",
       "  <tbody>\n",
       "    <tr>\n",
       "      <th>0</th>\n",
       "      <td>1</td>\n",
       "      <td>2</td>\n",
       "      <td>0</td>\n",
       "      <td>43450</td>\n",
       "      <td>1</td>\n",
       "      <td>39</td>\n",
       "    </tr>\n",
       "    <tr>\n",
       "      <th>1</th>\n",
       "      <td>1</td>\n",
       "      <td>2</td>\n",
       "      <td>0</td>\n",
       "      <td>79000</td>\n",
       "      <td>1</td>\n",
       "      <td>40</td>\n",
       "    </tr>\n",
       "    <tr>\n",
       "      <th>2</th>\n",
       "      <td>1</td>\n",
       "      <td>2</td>\n",
       "      <td>0</td>\n",
       "      <td>51306</td>\n",
       "      <td>1</td>\n",
       "      <td>39</td>\n",
       "    </tr>\n",
       "    <tr>\n",
       "      <th>3</th>\n",
       "      <td>1</td>\n",
       "      <td>4</td>\n",
       "      <td>2</td>\n",
       "      <td>24850</td>\n",
       "      <td>1</td>\n",
       "      <td>41</td>\n",
       "    </tr>\n",
       "    <tr>\n",
       "      <th>4</th>\n",
       "      <td>1</td>\n",
       "      <td>4</td>\n",
       "      <td>2</td>\n",
       "      <td>65145</td>\n",
       "      <td>1</td>\n",
       "      <td>43</td>\n",
       "    </tr>\n",
       "    <tr>\n",
       "      <th>...</th>\n",
       "      <td>...</td>\n",
       "      <td>...</td>\n",
       "      <td>...</td>\n",
       "      <td>...</td>\n",
       "      <td>...</td>\n",
       "      <td>...</td>\n",
       "    </tr>\n",
       "    <tr>\n",
       "      <th>20534</th>\n",
       "      <td>1</td>\n",
       "      <td>2</td>\n",
       "      <td>0</td>\n",
       "      <td>31216</td>\n",
       "      <td>2</td>\n",
       "      <td>39</td>\n",
       "    </tr>\n",
       "    <tr>\n",
       "      <th>20535</th>\n",
       "      <td>1</td>\n",
       "      <td>3</td>\n",
       "      <td>0</td>\n",
       "      <td>65002</td>\n",
       "      <td>2</td>\n",
       "      <td>40</td>\n",
       "    </tr>\n",
       "    <tr>\n",
       "      <th>20536</th>\n",
       "      <td>1</td>\n",
       "      <td>5</td>\n",
       "      <td>3</td>\n",
       "      <td>70674</td>\n",
       "      <td>2</td>\n",
       "      <td>43</td>\n",
       "    </tr>\n",
       "    <tr>\n",
       "      <th>20537</th>\n",
       "      <td>1</td>\n",
       "      <td>3</td>\n",
       "      <td>0</td>\n",
       "      <td>57623</td>\n",
       "      <td>2</td>\n",
       "      <td>40</td>\n",
       "    </tr>\n",
       "    <tr>\n",
       "      <th>20538</th>\n",
       "      <td>1</td>\n",
       "      <td>4</td>\n",
       "      <td>2</td>\n",
       "      <td>81169</td>\n",
       "      <td>2</td>\n",
       "      <td>39</td>\n",
       "    </tr>\n",
       "  </tbody>\n",
       "</table>\n",
       "<p>20539 rows × 6 columns</p>\n",
       "</div>"
      ],
      "text/plain": [
       "       TIP  CLANOV  OTROK  DOHODEK  CETRT  IZOBRAZBA\n",
       "0        1       2      0    43450      1         39\n",
       "1        1       2      0    79000      1         40\n",
       "2        1       2      0    51306      1         39\n",
       "3        1       4      2    24850      1         41\n",
       "4        1       4      2    65145      1         43\n",
       "...    ...     ...    ...      ...    ...        ...\n",
       "20534    1       2      0    31216      2         39\n",
       "20535    1       3      0    65002      2         40\n",
       "20536    1       5      3    70674      2         43\n",
       "20537    1       3      0    57623      2         40\n",
       "20538    1       4      2    81169      2         39\n",
       "\n",
       "[20539 rows x 6 columns]"
      ]
     },
     "execution_count": 26,
     "metadata": {},
     "output_type": "execute_result"
    }
   ],
   "source": [
    "df[df[\"CETRT\"].isin([1,2])]"
   ]
  },
  {
   "cell_type": "code",
   "execution_count": 27,
   "metadata": {},
   "outputs": [
    {
     "data": {
      "text/html": [
       "<div>\n",
       "<style scoped>\n",
       "    .dataframe tbody tr th:only-of-type {\n",
       "        vertical-align: middle;\n",
       "    }\n",
       "\n",
       "    .dataframe tbody tr th {\n",
       "        vertical-align: top;\n",
       "    }\n",
       "\n",
       "    .dataframe thead th {\n",
       "        text-align: right;\n",
       "    }\n",
       "</style>\n",
       "<table border=\"1\" class=\"dataframe\">\n",
       "  <thead>\n",
       "    <tr style=\"text-align: right;\">\n",
       "      <th></th>\n",
       "      <th>TIP</th>\n",
       "      <th>CLANOV</th>\n",
       "      <th>OTROK</th>\n",
       "      <th>DOHODEK</th>\n",
       "      <th>CETRT</th>\n",
       "      <th>IZOBRAZBA</th>\n",
       "    </tr>\n",
       "  </thead>\n",
       "  <tbody>\n",
       "    <tr>\n",
       "      <th>count</th>\n",
       "      <td>1000.000000</td>\n",
       "      <td>1000.000000</td>\n",
       "      <td>1000.000000</td>\n",
       "      <td>1000.000000</td>\n",
       "      <td>1000.000000</td>\n",
       "      <td>1000.000000</td>\n",
       "    </tr>\n",
       "    <tr>\n",
       "      <th>mean</th>\n",
       "      <td>1.067000</td>\n",
       "      <td>3.313000</td>\n",
       "      <td>0.579000</td>\n",
       "      <td>156949.927000</td>\n",
       "      <td>2.394000</td>\n",
       "      <td>42.648000</td>\n",
       "    </tr>\n",
       "    <tr>\n",
       "      <th>std</th>\n",
       "      <td>0.332598</td>\n",
       "      <td>1.363411</td>\n",
       "      <td>0.935218</td>\n",
       "      <td>38230.706306</td>\n",
       "      <td>1.192554</td>\n",
       "      <td>2.531898</td>\n",
       "    </tr>\n",
       "    <tr>\n",
       "      <th>min</th>\n",
       "      <td>1.000000</td>\n",
       "      <td>2.000000</td>\n",
       "      <td>0.000000</td>\n",
       "      <td>123908.000000</td>\n",
       "      <td>1.000000</td>\n",
       "      <td>31.000000</td>\n",
       "    </tr>\n",
       "    <tr>\n",
       "      <th>25%</th>\n",
       "      <td>1.000000</td>\n",
       "      <td>2.000000</td>\n",
       "      <td>0.000000</td>\n",
       "      <td>133199.500000</td>\n",
       "      <td>1.000000</td>\n",
       "      <td>41.000000</td>\n",
       "    </tr>\n",
       "    <tr>\n",
       "      <th>50%</th>\n",
       "      <td>1.000000</td>\n",
       "      <td>3.000000</td>\n",
       "      <td>0.000000</td>\n",
       "      <td>144947.500000</td>\n",
       "      <td>2.000000</td>\n",
       "      <td>43.000000</td>\n",
       "    </tr>\n",
       "    <tr>\n",
       "      <th>75%</th>\n",
       "      <td>1.000000</td>\n",
       "      <td>4.000000</td>\n",
       "      <td>1.000000</td>\n",
       "      <td>166386.750000</td>\n",
       "      <td>4.000000</td>\n",
       "      <td>44.000000</td>\n",
       "    </tr>\n",
       "    <tr>\n",
       "      <th>max</th>\n",
       "      <td>3.000000</td>\n",
       "      <td>11.000000</td>\n",
       "      <td>6.000000</td>\n",
       "      <td>451887.000000</td>\n",
       "      <td>4.000000</td>\n",
       "      <td>46.000000</td>\n",
       "    </tr>\n",
       "  </tbody>\n",
       "</table>\n",
       "</div>"
      ],
      "text/plain": [
       "               TIP       CLANOV        OTROK        DOHODEK        CETRT  \\\n",
       "count  1000.000000  1000.000000  1000.000000    1000.000000  1000.000000   \n",
       "mean      1.067000     3.313000     0.579000  156949.927000     2.394000   \n",
       "std       0.332598     1.363411     0.935218   38230.706306     1.192554   \n",
       "min       1.000000     2.000000     0.000000  123908.000000     1.000000   \n",
       "25%       1.000000     2.000000     0.000000  133199.500000     1.000000   \n",
       "50%       1.000000     3.000000     0.000000  144947.500000     2.000000   \n",
       "75%       1.000000     4.000000     1.000000  166386.750000     4.000000   \n",
       "max       3.000000    11.000000     6.000000  451887.000000     4.000000   \n",
       "\n",
       "         IZOBRAZBA  \n",
       "count  1000.000000  \n",
       "mean     42.648000  \n",
       "std       2.531898  \n",
       "min      31.000000  \n",
       "25%      41.000000  \n",
       "50%      43.000000  \n",
       "75%      44.000000  \n",
       "max      46.000000  "
      ]
     },
     "execution_count": 27,
     "metadata": {},
     "output_type": "execute_result"
    }
   ],
   "source": [
    "bogati.describe()"
   ]
  },
  {
   "cell_type": "markdown",
   "metadata": {},
   "source": [
    "## Srečnostni indeks"
   ]
  },
  {
   "cell_type": "code",
   "execution_count": 28,
   "metadata": {},
   "outputs": [],
   "source": [
    "import math\n",
    "u_doh = int(df[\"DOHODEK\"].mean())\n",
    "u_izo = float(df[\"IZOBRAZBA\"].mean())\n",
    "def funkcija(x):\n",
    "    if x < u_doh:\n",
    "        return 2**(x /u_doh)\n",
    "    else:\n",
    "        return 2 + math.log(1 + (x - u_doh)/u_doh, 2)"
   ]
  },
  {
   "cell_type": "code",
   "execution_count": 29,
   "metadata": {},
   "outputs": [
    {
     "data": {
      "image/png": "[encoded data removed]",
      "text/plain": [
       "<Figure size 640x480 with 1 Axes>"
      ]
     },
     "metadata": {},
     "output_type": "display_data"
    }
   ],
   "source": [
    "import numpy as np\n",
    "x_values = []\n",
    "t = 5000\n",
    "for i in range(1000):\n",
    "    x_values.append(t)\n",
    "    t += 500\n",
    "\n",
    "y_values = []\n",
    "for e in x_values:\n",
    "    y_values.append(funkcija(e))\n",
    "\n",
    "x_os = np.array(x_values)\n",
    "y_os = np.array(y_values)\n",
    "\n",
    "plt.plot(x_os, y_os)\n",
    "plt.show()"
   ]
  },
  {
   "cell_type": "code",
   "execution_count": 30,
   "metadata": {},
   "outputs": [],
   "source": [
    "def normalna(x):\n",
    "    return 1/math.sqrt(2*math.pi*float(df[\"IZOBRAZBA\"].var()))*math.exp(-(x - u_izo)**2/(2*float(df[\"IZOBRAZBA\"].var())))"
   ]
  },
  {
   "cell_type": "code",
   "execution_count": 31,
   "metadata": {},
   "outputs": [
    {
     "data": {
      "image/png": "[encoded data removed]",
      "text/plain": [
       "<Figure size 640x480 with 1 Axes>"
      ]
     },
     "metadata": {},
     "output_type": "display_data"
    }
   ],
   "source": [
    "import numpy as np\n",
    "x_values = []\n",
    "t = 0\n",
    "for i in range(500):\n",
    "    x_values.append(t)\n",
    "    t += 0.1\n",
    "\n",
    "y_values = []\n",
    "for e in x_values:\n",
    "    y_values.append(normalna(e))\n",
    "\n",
    "x_os = np.array(x_values)\n",
    "y_os = np.array(y_values)\n",
    "\n",
    "plt.plot(x_os, y_os)\n",
    "plt.show()"
   ]
  },
  {
   "cell_type": "code",
   "execution_count": 32,
   "metadata": {},
   "outputs": [
    {
     "data": {
      "text/html": [
       "<div>\n",
       "<style scoped>\n",
       "    .dataframe tbody tr th:only-of-type {\n",
       "        vertical-align: middle;\n",
       "    }\n",
       "\n",
       "    .dataframe tbody tr th {\n",
       "        vertical-align: top;\n",
       "    }\n",
       "\n",
       "    .dataframe thead th {\n",
       "        text-align: right;\n",
       "    }\n",
       "</style>\n",
       "<table border=\"1\" class=\"dataframe\">\n",
       "  <thead>\n",
       "    <tr style=\"text-align: right;\">\n",
       "      <th></th>\n",
       "      <th>TIP</th>\n",
       "      <th>CLANOV</th>\n",
       "      <th>OTROK</th>\n",
       "      <th>DOHODEK</th>\n",
       "      <th>CETRT</th>\n",
       "      <th>IZOBRAZBA</th>\n",
       "      <th>SRECNOST</th>\n",
       "    </tr>\n",
       "  </thead>\n",
       "  <tbody>\n",
       "    <tr>\n",
       "      <th>37379</th>\n",
       "      <td>1</td>\n",
       "      <td>12</td>\n",
       "      <td>9</td>\n",
       "      <td>78555</td>\n",
       "      <td>4</td>\n",
       "      <td>46</td>\n",
       "      <td>527.066465</td>\n",
       "    </tr>\n",
       "    <tr>\n",
       "      <th>12810</th>\n",
       "      <td>1</td>\n",
       "      <td>10</td>\n",
       "      <td>8</td>\n",
       "      <td>100500</td>\n",
       "      <td>2</td>\n",
       "      <td>43</td>\n",
       "      <td>526.801403</td>\n",
       "    </tr>\n",
       "    <tr>\n",
       "      <th>8946</th>\n",
       "      <td>1</td>\n",
       "      <td>9</td>\n",
       "      <td>7</td>\n",
       "      <td>114535</td>\n",
       "      <td>1</td>\n",
       "      <td>43</td>\n",
       "      <td>487.440731</td>\n",
       "    </tr>\n",
       "    <tr>\n",
       "      <th>38998</th>\n",
       "      <td>1</td>\n",
       "      <td>9</td>\n",
       "      <td>6</td>\n",
       "      <td>133090</td>\n",
       "      <td>4</td>\n",
       "      <td>31</td>\n",
       "      <td>442.496026</td>\n",
       "    </tr>\n",
       "    <tr>\n",
       "      <th>18596</th>\n",
       "      <td>1</td>\n",
       "      <td>14</td>\n",
       "      <td>9</td>\n",
       "      <td>49880</td>\n",
       "      <td>2</td>\n",
       "      <td>46</td>\n",
       "      <td>409.050107</td>\n",
       "    </tr>\n",
       "    <tr>\n",
       "      <th>...</th>\n",
       "      <td>...</td>\n",
       "      <td>...</td>\n",
       "      <td>...</td>\n",
       "      <td>...</td>\n",
       "      <td>...</td>\n",
       "      <td>...</td>\n",
       "      <td>...</td>\n",
       "    </tr>\n",
       "    <tr>\n",
       "      <th>25062</th>\n",
       "      <td>1</td>\n",
       "      <td>2</td>\n",
       "      <td>0</td>\n",
       "      <td>13920</td>\n",
       "      <td>3</td>\n",
       "      <td>36</td>\n",
       "      <td>0.000000</td>\n",
       "    </tr>\n",
       "    <tr>\n",
       "      <th>8021</th>\n",
       "      <td>1</td>\n",
       "      <td>2</td>\n",
       "      <td>0</td>\n",
       "      <td>70000</td>\n",
       "      <td>1</td>\n",
       "      <td>39</td>\n",
       "      <td>0.000000</td>\n",
       "    </tr>\n",
       "    <tr>\n",
       "      <th>25056</th>\n",
       "      <td>3</td>\n",
       "      <td>3</td>\n",
       "      <td>0</td>\n",
       "      <td>23245</td>\n",
       "      <td>3</td>\n",
       "      <td>39</td>\n",
       "      <td>0.000000</td>\n",
       "    </tr>\n",
       "    <tr>\n",
       "      <th>25055</th>\n",
       "      <td>3</td>\n",
       "      <td>4</td>\n",
       "      <td>0</td>\n",
       "      <td>29675</td>\n",
       "      <td>3</td>\n",
       "      <td>34</td>\n",
       "      <td>0.000000</td>\n",
       "    </tr>\n",
       "    <tr>\n",
       "      <th>0</th>\n",
       "      <td>1</td>\n",
       "      <td>2</td>\n",
       "      <td>0</td>\n",
       "      <td>43450</td>\n",
       "      <td>1</td>\n",
       "      <td>39</td>\n",
       "      <td>0.000000</td>\n",
       "    </tr>\n",
       "  </tbody>\n",
       "</table>\n",
       "<p>43886 rows × 7 columns</p>\n",
       "</div>"
      ],
      "text/plain": [
       "       TIP  CLANOV  OTROK  DOHODEK  CETRT  IZOBRAZBA    SRECNOST\n",
       "37379    1      12      9    78555      4         46  527.066465\n",
       "12810    1      10      8   100500      2         43  526.801403\n",
       "8946     1       9      7   114535      1         43  487.440731\n",
       "38998    1       9      6   133090      4         31  442.496026\n",
       "18596    1      14      9    49880      2         46  409.050107\n",
       "...    ...     ...    ...      ...    ...        ...         ...\n",
       "25062    1       2      0    13920      3         36    0.000000\n",
       "8021     1       2      0    70000      1         39    0.000000\n",
       "25056    3       3      0    23245      3         39    0.000000\n",
       "25055    3       4      0    29675      3         34    0.000000\n",
       "0        1       2      0    43450      1         39    0.000000\n",
       "\n",
       "[43886 rows x 7 columns]"
      ]
     },
     "execution_count": 32,
     "metadata": {},
     "output_type": "execute_result"
    }
   ],
   "source": [
    "df[\"SRECNOST\"] = (df[\"OTROK\"])*(df[\"DOHODEK\"].apply(funkcija))*(df[\"IZOBRAZBA\"].apply(normalna)+20)\n",
    "df_srecen = df.sort_values(\"SRECNOST\", ascending=False)\n",
    "df_srecen"
   ]
  },
  {
   "cell_type": "code",
   "execution_count": 33,
   "metadata": {},
   "outputs": [
    {
     "data": {
      "text/plain": [
       "<Axes: >"
      ]
     },
     "execution_count": 33,
     "metadata": {},
     "output_type": "execute_result"
    },
    {
     "data": {
      "image/png": "[encoded data removed]",
      "text/plain": [
       "<Figure size 640x480 with 1 Axes>"
      ]
     },
     "metadata": {},
     "output_type": "display_data"
    }
   ],
   "source": [
    "df[\"SRECNOST\"].hist(bins=30)"
   ]
  },
  {
   "cell_type": "code",
   "execution_count": 34,
   "metadata": {},
   "outputs": [
    {
     "data": {
      "text/html": [
       "<div>\n",
       "<style scoped>\n",
       "    .dataframe tbody tr th:only-of-type {\n",
       "        vertical-align: middle;\n",
       "    }\n",
       "\n",
       "    .dataframe tbody tr th {\n",
       "        vertical-align: top;\n",
       "    }\n",
       "\n",
       "    .dataframe thead th {\n",
       "        text-align: right;\n",
       "    }\n",
       "</style>\n",
       "<table border=\"1\" class=\"dataframe\">\n",
       "  <thead>\n",
       "    <tr style=\"text-align: right;\">\n",
       "      <th></th>\n",
       "      <th>TIP</th>\n",
       "      <th>CLANOV</th>\n",
       "      <th>OTROK</th>\n",
       "      <th>DOHODEK</th>\n",
       "      <th>CETRT</th>\n",
       "      <th>IZOBRAZBA</th>\n",
       "      <th>SRECNOST</th>\n",
       "    </tr>\n",
       "  </thead>\n",
       "  <tbody>\n",
       "    <tr>\n",
       "      <th>count</th>\n",
       "      <td>43886.000000</td>\n",
       "      <td>43886.000000</td>\n",
       "      <td>43886.000000</td>\n",
       "      <td>43886.000000</td>\n",
       "      <td>43886.000000</td>\n",
       "      <td>43886.000000</td>\n",
       "      <td>43886.000000</td>\n",
       "    </tr>\n",
       "    <tr>\n",
       "      <th>mean</th>\n",
       "      <td>1.430935</td>\n",
       "      <td>3.137288</td>\n",
       "      <td>0.947933</td>\n",
       "      <td>41335.507041</td>\n",
       "      <td>2.526090</td>\n",
       "      <td>39.422504</td>\n",
       "      <td>35.928525</td>\n",
       "    </tr>\n",
       "    <tr>\n",
       "      <th>std</th>\n",
       "      <td>0.793332</td>\n",
       "      <td>1.293711</td>\n",
       "      <td>1.157211</td>\n",
       "      <td>32037.619418</td>\n",
       "      <td>1.078228</td>\n",
       "      <td>3.021883</td>\n",
       "      <td>47.516614</td>\n",
       "    </tr>\n",
       "    <tr>\n",
       "      <th>min</th>\n",
       "      <td>1.000000</td>\n",
       "      <td>2.000000</td>\n",
       "      <td>0.000000</td>\n",
       "      <td>-22166.000000</td>\n",
       "      <td>1.000000</td>\n",
       "      <td>31.000000</td>\n",
       "      <td>0.000000</td>\n",
       "    </tr>\n",
       "    <tr>\n",
       "      <th>25%</th>\n",
       "      <td>1.000000</td>\n",
       "      <td>2.000000</td>\n",
       "      <td>0.000000</td>\n",
       "      <td>18300.000000</td>\n",
       "      <td>2.000000</td>\n",
       "      <td>39.000000</td>\n",
       "      <td>0.000000</td>\n",
       "    </tr>\n",
       "    <tr>\n",
       "      <th>50%</th>\n",
       "      <td>1.000000</td>\n",
       "      <td>3.000000</td>\n",
       "      <td>1.000000</td>\n",
       "      <td>34550.000000</td>\n",
       "      <td>3.000000</td>\n",
       "      <td>39.000000</td>\n",
       "      <td>20.781397</td>\n",
       "    </tr>\n",
       "    <tr>\n",
       "      <th>75%</th>\n",
       "      <td>1.000000</td>\n",
       "      <td>4.000000</td>\n",
       "      <td>2.000000</td>\n",
       "      <td>55827.750000</td>\n",
       "      <td>3.000000</td>\n",
       "      <td>41.000000</td>\n",
       "      <td>60.319915</td>\n",
       "    </tr>\n",
       "    <tr>\n",
       "      <th>max</th>\n",
       "      <td>3.000000</td>\n",
       "      <td>25.000000</td>\n",
       "      <td>9.000000</td>\n",
       "      <td>451887.000000</td>\n",
       "      <td>4.000000</td>\n",
       "      <td>46.000000</td>\n",
       "      <td>527.066465</td>\n",
       "    </tr>\n",
       "  </tbody>\n",
       "</table>\n",
       "</div>"
      ],
      "text/plain": [
       "                TIP        CLANOV         OTROK        DOHODEK         CETRT  \\\n",
       "count  43886.000000  43886.000000  43886.000000   43886.000000  43886.000000   \n",
       "mean       1.430935      3.137288      0.947933   41335.507041      2.526090   \n",
       "std        0.793332      1.293711      1.157211   32037.619418      1.078228   \n",
       "min        1.000000      2.000000      0.000000  -22166.000000      1.000000   \n",
       "25%        1.000000      2.000000      0.000000   18300.000000      2.000000   \n",
       "50%        1.000000      3.000000      1.000000   34550.000000      3.000000   \n",
       "75%        1.000000      4.000000      2.000000   55827.750000      3.000000   \n",
       "max        3.000000     25.000000      9.000000  451887.000000      4.000000   \n",
       "\n",
       "          IZOBRAZBA      SRECNOST  \n",
       "count  43886.000000  43886.000000  \n",
       "mean      39.422504     35.928525  \n",
       "std        3.021883     47.516614  \n",
       "min       31.000000      0.000000  \n",
       "25%       39.000000      0.000000  \n",
       "50%       39.000000     20.781397  \n",
       "75%       41.000000     60.319915  \n",
       "max       46.000000    527.066465  "
      ]
     },
     "execution_count": 34,
     "metadata": {},
     "output_type": "execute_result"
    }
   ],
   "source": [
    "df_srecen.describe()"
   ]
  },
  {
   "cell_type": "code",
   "execution_count": 35,
   "metadata": {},
   "outputs": [
    {
     "data": {
      "text/html": [
       "<div>\n",
       "<style scoped>\n",
       "    .dataframe tbody tr th:only-of-type {\n",
       "        vertical-align: middle;\n",
       "    }\n",
       "\n",
       "    .dataframe tbody tr th {\n",
       "        vertical-align: top;\n",
       "    }\n",
       "\n",
       "    .dataframe thead th {\n",
       "        text-align: right;\n",
       "    }\n",
       "</style>\n",
       "<table border=\"1\" class=\"dataframe\">\n",
       "  <thead>\n",
       "    <tr style=\"text-align: right;\">\n",
       "      <th></th>\n",
       "      <th>TIP</th>\n",
       "      <th>CLANOV</th>\n",
       "      <th>OTROK</th>\n",
       "      <th>DOHODEK</th>\n",
       "      <th>CETRT</th>\n",
       "      <th>IZOBRAZBA</th>\n",
       "      <th>SRECNOST</th>\n",
       "    </tr>\n",
       "  </thead>\n",
       "  <tbody>\n",
       "    <tr>\n",
       "      <th>39981</th>\n",
       "      <td>1</td>\n",
       "      <td>4</td>\n",
       "      <td>2</td>\n",
       "      <td>26000</td>\n",
       "      <td>4</td>\n",
       "      <td>35</td>\n",
       "      <td>61.999937</td>\n",
       "    </tr>\n",
       "    <tr>\n",
       "      <th>9159</th>\n",
       "      <td>3</td>\n",
       "      <td>4</td>\n",
       "      <td>3</td>\n",
       "      <td>1566</td>\n",
       "      <td>1</td>\n",
       "      <td>40</td>\n",
       "      <td>61.995721</td>\n",
       "    </tr>\n",
       "    <tr>\n",
       "      <th>1049</th>\n",
       "      <td>1</td>\n",
       "      <td>5</td>\n",
       "      <td>1</td>\n",
       "      <td>87970</td>\n",
       "      <td>1</td>\n",
       "      <td>43</td>\n",
       "      <td>61.995351</td>\n",
       "    </tr>\n",
       "    <tr>\n",
       "      <th>6178</th>\n",
       "      <td>1</td>\n",
       "      <td>5</td>\n",
       "      <td>1</td>\n",
       "      <td>87700</td>\n",
       "      <td>1</td>\n",
       "      <td>42</td>\n",
       "      <td>61.987359</td>\n",
       "    </tr>\n",
       "    <tr>\n",
       "      <th>30953</th>\n",
       "      <td>3</td>\n",
       "      <td>4</td>\n",
       "      <td>3</td>\n",
       "      <td>1656</td>\n",
       "      <td>3</td>\n",
       "      <td>37</td>\n",
       "      <td>61.984820</td>\n",
       "    </tr>\n",
       "    <tr>\n",
       "      <th>...</th>\n",
       "      <td>...</td>\n",
       "      <td>...</td>\n",
       "      <td>...</td>\n",
       "      <td>...</td>\n",
       "      <td>...</td>\n",
       "      <td>...</td>\n",
       "      <td>...</td>\n",
       "    </tr>\n",
       "    <tr>\n",
       "      <th>11506</th>\n",
       "      <td>3</td>\n",
       "      <td>3</td>\n",
       "      <td>2</td>\n",
       "      <td>23799</td>\n",
       "      <td>2</td>\n",
       "      <td>39</td>\n",
       "      <td>60.008164</td>\n",
       "    </tr>\n",
       "    <tr>\n",
       "      <th>1694</th>\n",
       "      <td>1</td>\n",
       "      <td>5</td>\n",
       "      <td>3</td>\n",
       "      <td>0</td>\n",
       "      <td>1</td>\n",
       "      <td>31</td>\n",
       "      <td>60.008145</td>\n",
       "    </tr>\n",
       "    <tr>\n",
       "      <th>4698</th>\n",
       "      <td>3</td>\n",
       "      <td>4</td>\n",
       "      <td>3</td>\n",
       "      <td>0</td>\n",
       "      <td>1</td>\n",
       "      <td>31</td>\n",
       "      <td>60.008145</td>\n",
       "    </tr>\n",
       "    <tr>\n",
       "      <th>41243</th>\n",
       "      <td>3</td>\n",
       "      <td>4</td>\n",
       "      <td>3</td>\n",
       "      <td>0</td>\n",
       "      <td>4</td>\n",
       "      <td>31</td>\n",
       "      <td>60.008145</td>\n",
       "    </tr>\n",
       "    <tr>\n",
       "      <th>9117</th>\n",
       "      <td>1</td>\n",
       "      <td>4</td>\n",
       "      <td>1</td>\n",
       "      <td>82125</td>\n",
       "      <td>1</td>\n",
       "      <td>43</td>\n",
       "      <td>60.005050</td>\n",
       "    </tr>\n",
       "  </tbody>\n",
       "</table>\n",
       "<p>487 rows × 7 columns</p>\n",
       "</div>"
      ],
      "text/plain": [
       "       TIP  CLANOV  OTROK  DOHODEK  CETRT  IZOBRAZBA   SRECNOST\n",
       "39981    1       4      2    26000      4         35  61.999937\n",
       "9159     3       4      3     1566      1         40  61.995721\n",
       "1049     1       5      1    87970      1         43  61.995351\n",
       "6178     1       5      1    87700      1         42  61.987359\n",
       "30953    3       4      3     1656      3         37  61.984820\n",
       "...    ...     ...    ...      ...    ...        ...        ...\n",
       "11506    3       3      2    23799      2         39  60.008164\n",
       "1694     1       5      3        0      1         31  60.008145\n",
       "4698     3       4      3        0      1         31  60.008145\n",
       "41243    3       4      3        0      4         31  60.008145\n",
       "9117     1       4      1    82125      1         43  60.005050\n",
       "\n",
       "[487 rows x 7 columns]"
      ]
     },
     "execution_count": 35,
     "metadata": {},
     "output_type": "execute_result"
    }
   ],
   "source": [
    "df_srecen[(df_srecen[\"SRECNOST\"] > 60) & (df_srecen[\"SRECNOST\"] < 62)]"
   ]
  },
  {
   "cell_type": "code",
   "execution_count": 36,
   "metadata": {},
   "outputs": [
    {
     "data": {
      "text/html": [
       "<div>\n",
       "<style scoped>\n",
       "    .dataframe tbody tr th:only-of-type {\n",
       "        vertical-align: middle;\n",
       "    }\n",
       "\n",
       "    .dataframe tbody tr th {\n",
       "        vertical-align: top;\n",
       "    }\n",
       "\n",
       "    .dataframe thead th {\n",
       "        text-align: right;\n",
       "    }\n",
       "</style>\n",
       "<table border=\"1\" class=\"dataframe\">\n",
       "  <thead>\n",
       "    <tr style=\"text-align: right;\">\n",
       "      <th></th>\n",
       "      <th>TIP</th>\n",
       "      <th>CLANOV</th>\n",
       "      <th>OTROK</th>\n",
       "      <th>DOHODEK</th>\n",
       "      <th>CETRT</th>\n",
       "      <th>IZOBRAZBA</th>\n",
       "      <th>SRECNOST</th>\n",
       "    </tr>\n",
       "  </thead>\n",
       "  <tbody>\n",
       "    <tr>\n",
       "      <th>count</th>\n",
       "      <td>43886.000000</td>\n",
       "      <td>43886.000000</td>\n",
       "      <td>43886.000000</td>\n",
       "      <td>43886.000000</td>\n",
       "      <td>43886.000000</td>\n",
       "      <td>43886.000000</td>\n",
       "      <td>43886.000000</td>\n",
       "    </tr>\n",
       "    <tr>\n",
       "      <th>mean</th>\n",
       "      <td>1.430935</td>\n",
       "      <td>3.137288</td>\n",
       "      <td>0.947933</td>\n",
       "      <td>41335.507041</td>\n",
       "      <td>2.526090</td>\n",
       "      <td>39.422504</td>\n",
       "      <td>35.928525</td>\n",
       "    </tr>\n",
       "    <tr>\n",
       "      <th>std</th>\n",
       "      <td>0.793332</td>\n",
       "      <td>1.293711</td>\n",
       "      <td>1.157211</td>\n",
       "      <td>32037.619418</td>\n",
       "      <td>1.078228</td>\n",
       "      <td>3.021883</td>\n",
       "      <td>47.516614</td>\n",
       "    </tr>\n",
       "    <tr>\n",
       "      <th>min</th>\n",
       "      <td>1.000000</td>\n",
       "      <td>2.000000</td>\n",
       "      <td>0.000000</td>\n",
       "      <td>-22166.000000</td>\n",
       "      <td>1.000000</td>\n",
       "      <td>31.000000</td>\n",
       "      <td>0.000000</td>\n",
       "    </tr>\n",
       "    <tr>\n",
       "      <th>25%</th>\n",
       "      <td>1.000000</td>\n",
       "      <td>2.000000</td>\n",
       "      <td>0.000000</td>\n",
       "      <td>18300.000000</td>\n",
       "      <td>2.000000</td>\n",
       "      <td>39.000000</td>\n",
       "      <td>0.000000</td>\n",
       "    </tr>\n",
       "    <tr>\n",
       "      <th>50%</th>\n",
       "      <td>1.000000</td>\n",
       "      <td>3.000000</td>\n",
       "      <td>1.000000</td>\n",
       "      <td>34550.000000</td>\n",
       "      <td>3.000000</td>\n",
       "      <td>39.000000</td>\n",
       "      <td>20.781397</td>\n",
       "    </tr>\n",
       "    <tr>\n",
       "      <th>75%</th>\n",
       "      <td>1.000000</td>\n",
       "      <td>4.000000</td>\n",
       "      <td>2.000000</td>\n",
       "      <td>55827.750000</td>\n",
       "      <td>3.000000</td>\n",
       "      <td>41.000000</td>\n",
       "      <td>60.319915</td>\n",
       "    </tr>\n",
       "    <tr>\n",
       "      <th>max</th>\n",
       "      <td>3.000000</td>\n",
       "      <td>25.000000</td>\n",
       "      <td>9.000000</td>\n",
       "      <td>451887.000000</td>\n",
       "      <td>4.000000</td>\n",
       "      <td>46.000000</td>\n",
       "      <td>527.066465</td>\n",
       "    </tr>\n",
       "  </tbody>\n",
       "</table>\n",
       "</div>"
      ],
      "text/plain": [
       "                TIP        CLANOV         OTROK        DOHODEK         CETRT  \\\n",
       "count  43886.000000  43886.000000  43886.000000   43886.000000  43886.000000   \n",
       "mean       1.430935      3.137288      0.947933   41335.507041      2.526090   \n",
       "std        0.793332      1.293711      1.157211   32037.619418      1.078228   \n",
       "min        1.000000      2.000000      0.000000  -22166.000000      1.000000   \n",
       "25%        1.000000      2.000000      0.000000   18300.000000      2.000000   \n",
       "50%        1.000000      3.000000      1.000000   34550.000000      3.000000   \n",
       "75%        1.000000      4.000000      2.000000   55827.750000      3.000000   \n",
       "max        3.000000     25.000000      9.000000  451887.000000      4.000000   \n",
       "\n",
       "          IZOBRAZBA      SRECNOST  \n",
       "count  43886.000000  43886.000000  \n",
       "mean      39.422504     35.928525  \n",
       "std        3.021883     47.516614  \n",
       "min       31.000000      0.000000  \n",
       "25%       39.000000      0.000000  \n",
       "50%       39.000000     20.781397  \n",
       "75%       41.000000     60.319915  \n",
       "max       46.000000    527.066465  "
      ]
     },
     "execution_count": 36,
     "metadata": {},
     "output_type": "execute_result"
    }
   ],
   "source": [
    "df_srecen.describe()"
   ]
  },
  {
   "cell_type": "code",
   "execution_count": 37,
   "metadata": {},
   "outputs": [
    {
     "data": {
      "text/plain": [
       "0.1733540636745005"
      ]
     },
     "execution_count": 37,
     "metadata": {},
     "output_type": "execute_result"
    }
   ],
   "source": [
    "df_srecen[\"SRECNOST\"].corr(df_srecen[\"IZOBRAZBA\"])"
   ]
  },
  {
   "cell_type": "code",
   "execution_count": 38,
   "metadata": {},
   "outputs": [
    {
     "data": {
      "text/plain": [
       "0.9020440459927997"
      ]
     },
     "execution_count": 38,
     "metadata": {},
     "output_type": "execute_result"
    }
   ],
   "source": [
    "df_srecen[\"SRECNOST\"].corr(df_srecen[\"OTROK\"])"
   ]
  },
  {
   "cell_type": "code",
   "execution_count": 39,
   "metadata": {},
   "outputs": [
    {
     "data": {
      "text/plain": [
       "0.1765587218195095"
      ]
     },
     "execution_count": 39,
     "metadata": {},
     "output_type": "execute_result"
    }
   ],
   "source": [
    "df_srecen[\"SRECNOST\"].corr(df_srecen[\"DOHODEK\"])"
   ]
  },
  {
   "cell_type": "code",
   "execution_count": 40,
   "metadata": {},
   "outputs": [
    {
     "data": {
      "image/png": "[encoded data removed]",
      "text/plain": [
       "<Figure size 640x480 with 1 Axes>"
      ]
     },
     "metadata": {},
     "output_type": "display_data"
    }
   ],
   "source": [
    "df_srecen.plot.scatter(x=\"DOHODEK\", y=\"SRECNOST\")\n",
    "plt.title(\"Primerjava med dohodkom in srečnostjo\")\n",
    "plt.xlabel(\"Dohodek\")\n",
    "plt.ylabel(\"Srečnost\")\n",
    "plt.show()"
   ]
  },
  {
   "cell_type": "code",
   "execution_count": null,
   "metadata": {},
   "outputs": [],
   "source": []
  }
 ],
 "metadata": {
  "kernelspec": {
   "display_name": "Python 3",
   "language": "python",
   "name": "python3"
  },
  "language_info": {
   "codemirror_mode": {
    "name": "ipython",
    "version": 3
   },
   "file_extension": ".py",
   "mimetype": "text/x-python",
   "name": "python",
   "nbconvert_exporter": "python",
   "pygments_lexer": "ipython3",
   "version": "3.9.1"
  }
 },
 "nbformat": 4,
 "nbformat_minor": 2
}
